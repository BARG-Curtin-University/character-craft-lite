{
 "cells": [
  {
   "cell_type": "markdown",
   "id": "2f1d1fb2",
   "metadata": {},
   "source": [
    "# 🧠 RAG Demo with CharacterCraft\n",
    "This notebook demonstrates how to use markdown documents as a knowledge base for a simple Retrieval-Augmented Generation (RAG) pipeline using `llama-index`."
   ]
  },
  {
   "cell_type": "markdown",
   "id": "fdafe93e",
   "metadata": {},
   "source": [
    "## ✅ Install Dependencies\n",
    "We'll install the necessary libraries. Uncomment if running locally."
   ]
  },
  {
   "cell_type": "code",
   "execution_count": null,
   "id": "66462569",
   "metadata": {},
   "outputs": [],
   "source": [
    "# !pip install llama-index openai"
   ]
  },
  {
   "cell_type": "markdown",
   "id": "2b7fbddb",
   "metadata": {},
   "source": [
    "## 📄 Load Markdown Files\n",
    "All markdown documents should be in the `data/` folder."
   ]
  },
  {
   "cell_type": "code",
   "execution_count": null,
   "id": "db7dd410",
   "metadata": {},
   "outputs": [],
   "source": [
    "from llama_index import VectorStoreIndex, SimpleDirectoryReader\n",
    "from llama_index.llms import OpenAI\n",
    "\n",
    "# Load markdown documents\n",
    "documents = SimpleDirectoryReader(\"data\").load_data()"
   ]
  },
  {
   "cell_type": "markdown",
   "id": "d94b81eb",
   "metadata": {},
   "source": [
    "## 🧠 Build the Index"
   ]
  },
  {
   "cell_type": "code",
   "execution_count": null,
   "id": "21ed88f2",
   "metadata": {},
   "outputs": [],
   "source": [
    "index = VectorStoreIndex.from_documents(documents)"
   ]
  },
  {
   "cell_type": "markdown",
   "id": "fe78ddd8",
   "metadata": {},
   "source": [
    "## 🔍 Query the Knowledge Base"
   ]
  },
  {
   "cell_type": "code",
   "execution_count": null,
   "id": "d18a9cb5",
   "metadata": {},
   "outputs": [],
   "source": [
    "query_engine = index.as_query_engine(llm=OpenAI())\n",
    "response = query_engine.query(\"What is this chatbot's communication style?\")\n",
    "print(response)"
   ]
  },
  {
   "cell_type": "markdown",
   "id": "1aba73c8",
   "metadata": {},
   "source": [
    "---\n",
    "✅ You can now experiment with your own queries!"
   ]
  }
 ],
 "metadata": {},
 "nbformat": 4,
 "nbformat_minor": 5
}
